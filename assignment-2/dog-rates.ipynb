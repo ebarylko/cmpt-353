{
 "cells": [
  {
   "cell_type": "code",
   "execution_count": 1,
   "id": "9a9a9bbf-deee-481b-970a-8c7500c7ba28",
   "metadata": {},
   "outputs": [],
   "source": [
    "import pandas as pd"
   ]
  },
  {
   "cell_type": "code",
   "execution_count": 3,
   "id": "051218b7-63ea-4d22-bdb7-03687fa5674e",
   "metadata": {},
   "outputs": [],
   "source": [
    "dog_rates = pd.read_csv(\"dog_rates_tweets.csv\")"
   ]
  },
  {
   "cell_type": "code",
   "execution_count": 5,
   "id": "eba854de-a36b-440b-b320-269c1200070b",
   "metadata": {},
   "outputs": [
    {
     "data": {
      "text/plain": [
       "0                    @Steff88979267 tell them to h*ck off\n",
       "1                               @NFLOwnerGBP take it back\n",
       "2       This is Louie. He has misplaced his Cheerio. W...\n",
       "3                                     @rachaellanaghan ❤️\n",
       "4       This is Captain Jack Wobbles. He is currently ...\n",
       "                              ...                        \n",
       "8510    @GregWWoods thanks for donating $10.00 to @dog...\n",
       "8511    @DiannaC thanks for donating $10.00 to @dog_ra...\n",
       "8512    @runnjen @livelikeroo @Goodworld omg Justice y...\n",
       "8513    @shelbymorganart thanks for donating $10.00 to...\n",
       "8514    @xo_taylernicole thanks for donating to @dog_r...\n",
       "Name: text, Length: 8515, dtype: object"
      ]
     },
     "execution_count": 5,
     "metadata": {},
     "output_type": "execute_result"
    }
   ],
   "source": [
    "dog_rates['text']"
   ]
  },
  {
   "cell_type": "code",
   "execution_count": null,
   "id": "405dc2ab-a99a-4ef1-8142-dc943083d45c",
   "metadata": {},
   "outputs": [],
   "source": []
  }
 ],
 "metadata": {
  "kernelspec": {
   "display_name": "Python 3 (ipykernel)",
   "language": "python",
   "name": "python3"
  },
  "language_info": {
   "codemirror_mode": {
    "name": "ipython",
    "version": 3
   },
   "file_extension": ".py",
   "mimetype": "text/x-python",
   "name": "python",
   "nbconvert_exporter": "python",
   "pygments_lexer": "ipython3",
   "version": "3.9.6"
  }
 },
 "nbformat": 4,
 "nbformat_minor": 5
}
