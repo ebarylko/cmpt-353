{
 "cells": [
  {
   "cell_type": "code",
   "execution_count": 6,
   "id": "9a9a9bbf-deee-481b-970a-8c7500c7ba28",
   "metadata": {},
   "outputs": [],
   "source": [
    "import pandas as pd\n",
    "import numpy as np\n",
    "import re"
   ]
  },
  {
   "cell_type": "code",
   "execution_count": 7,
   "id": "051218b7-63ea-4d22-bdb7-03687fa5674e",
   "metadata": {},
   "outputs": [],
   "source": [
    "dog_rates = pd.read_csv(\"dog_rates_tweets.csv\")"
   ]
  },
  {
   "cell_type": "code",
   "execution_count": 8,
   "id": "eba854de-a36b-440b-b320-269c1200070b",
   "metadata": {},
   "outputs": [],
   "source": [
    "\n",
    "def extract_rating(tweet):\n",
    "    \"\"\"\n",
    "    Args:\n",
    "        tweet: a string that optionally contains a rating of the form x/10, where x is a positive integer\n",
    "\n",
    "    Returns: NAN if the tweet has no rating, otherwise returns the numerical value of the rating\n",
    "    \"\"\"\n",
    "    def process_rating(rating):\n",
    "        num, denom = map(float, rating.split('/'))\n",
    "        return num / denom\n",
    " \n",
    "    \n",
    "    match = re.search(r'(\\d+(\\.\\d+)?)/10', tweet)\n",
    "    return np.nan if not match else process_rating(match.group())\n"
   ]
  },
  {
   "cell_type": "code",
   "execution_count": 9,
   "id": "405dc2ab-a99a-4ef1-8142-dc943083d45c",
   "metadata": {},
   "outputs": [
    {
     "data": {
      "text/html": [
       "<div>\n",
       "<style scoped>\n",
       "    .dataframe tbody tr th:only-of-type {\n",
       "        vertical-align: middle;\n",
       "    }\n",
       "\n",
       "    .dataframe tbody tr th {\n",
       "        vertical-align: top;\n",
       "    }\n",
       "\n",
       "    .dataframe thead th {\n",
       "        text-align: right;\n",
       "    }\n",
       "</style>\n",
       "<table border=\"1\" class=\"dataframe\">\n",
       "  <thead>\n",
       "    <tr style=\"text-align: right;\">\n",
       "      <th></th>\n",
       "      <th>id</th>\n",
       "      <th>created_at</th>\n",
       "      <th>text</th>\n",
       "    </tr>\n",
       "  </thead>\n",
       "  <tbody>\n",
       "    <tr>\n",
       "      <th>0</th>\n",
       "      <td>994677639364403200</td>\n",
       "      <td>2018-05-10 20:36:44</td>\n",
       "      <td>@Steff88979267 tell them to h*ck off</td>\n",
       "    </tr>\n",
       "    <tr>\n",
       "      <th>1</th>\n",
       "      <td>994364904978239488</td>\n",
       "      <td>2018-05-09 23:54:02</td>\n",
       "      <td>@NFLOwnerGBP take it back</td>\n",
       "    </tr>\n",
       "    <tr>\n",
       "      <th>2</th>\n",
       "      <td>994363623421153280</td>\n",
       "      <td>2018-05-09 23:48:56</td>\n",
       "      <td>This is Louie. He has misplaced his Cheerio. W...</td>\n",
       "    </tr>\n",
       "    <tr>\n",
       "      <th>3</th>\n",
       "      <td>994336722875047936</td>\n",
       "      <td>2018-05-09 22:02:03</td>\n",
       "      <td>@rachaellanaghan ❤️</td>\n",
       "    </tr>\n",
       "    <tr>\n",
       "      <th>4</th>\n",
       "      <td>994024065982717952</td>\n",
       "      <td>2018-05-09 01:19:40</td>\n",
       "      <td>This is Captain Jack Wobbles. He is currently ...</td>\n",
       "    </tr>\n",
       "    <tr>\n",
       "      <th>...</th>\n",
       "      <td>...</td>\n",
       "      <td>...</td>\n",
       "      <td>...</td>\n",
       "    </tr>\n",
       "    <tr>\n",
       "      <th>8510</th>\n",
       "      <td>1027980978910687233</td>\n",
       "      <td>2018-08-10 18:12:18</td>\n",
       "      <td>@GregWWoods thanks for donating $10.00 to @dog...</td>\n",
       "    </tr>\n",
       "    <tr>\n",
       "      <th>8511</th>\n",
       "      <td>1027976875811819520</td>\n",
       "      <td>2018-08-10 17:56:00</td>\n",
       "      <td>@DiannaC thanks for donating $10.00 to @dog_ra...</td>\n",
       "    </tr>\n",
       "    <tr>\n",
       "      <th>8512</th>\n",
       "      <td>1027970381766963202</td>\n",
       "      <td>2018-08-10 17:30:12</td>\n",
       "      <td>@runnjen @livelikeroo @Goodworld omg Justice y...</td>\n",
       "    </tr>\n",
       "    <tr>\n",
       "      <th>8513</th>\n",
       "      <td>1027967697684815873</td>\n",
       "      <td>2018-08-10 17:19:32</td>\n",
       "      <td>@shelbymorganart thanks for donating $10.00 to...</td>\n",
       "    </tr>\n",
       "    <tr>\n",
       "      <th>8514</th>\n",
       "      <td>1027963039029452800</td>\n",
       "      <td>2018-08-10 17:01:01</td>\n",
       "      <td>@xo_taylernicole thanks for donating to @dog_r...</td>\n",
       "    </tr>\n",
       "  </tbody>\n",
       "</table>\n",
       "<p>8515 rows × 3 columns</p>\n",
       "</div>"
      ],
      "text/plain": [
       "                       id           created_at  \\\n",
       "0      994677639364403200  2018-05-10 20:36:44   \n",
       "1      994364904978239488  2018-05-09 23:54:02   \n",
       "2      994363623421153280  2018-05-09 23:48:56   \n",
       "3      994336722875047936  2018-05-09 22:02:03   \n",
       "4      994024065982717952  2018-05-09 01:19:40   \n",
       "...                   ...                  ...   \n",
       "8510  1027980978910687233  2018-08-10 18:12:18   \n",
       "8511  1027976875811819520  2018-08-10 17:56:00   \n",
       "8512  1027970381766963202  2018-08-10 17:30:12   \n",
       "8513  1027967697684815873  2018-08-10 17:19:32   \n",
       "8514  1027963039029452800  2018-08-10 17:01:01   \n",
       "\n",
       "                                                   text  \n",
       "0                  @Steff88979267 tell them to h*ck off  \n",
       "1                             @NFLOwnerGBP take it back  \n",
       "2     This is Louie. He has misplaced his Cheerio. W...  \n",
       "3                                   @rachaellanaghan ❤️  \n",
       "4     This is Captain Jack Wobbles. He is currently ...  \n",
       "...                                                 ...  \n",
       "8510  @GregWWoods thanks for donating $10.00 to @dog...  \n",
       "8511  @DiannaC thanks for donating $10.00 to @dog_ra...  \n",
       "8512  @runnjen @livelikeroo @Goodworld omg Justice y...  \n",
       "8513  @shelbymorganart thanks for donating $10.00 to...  \n",
       "8514  @xo_taylernicole thanks for donating to @dog_r...  \n",
       "\n",
       "[8515 rows x 3 columns]"
      ]
     },
     "execution_count": 9,
     "metadata": {},
     "output_type": "execute_result"
    }
   ],
   "source": [
    "dog_rates"
   ]
  },
  {
   "cell_type": "code",
   "execution_count": 11,
   "id": "60ecae7d-8ada-401f-9589-81ae49321245",
   "metadata": {},
   "outputs": [],
   "source": [
    "tweets_with_ratings = dog_rates.assign(rates=dog_rates['text'].apply(extract_rating))"
   ]
  },
  {
   "cell_type": "raw",
   "id": "83dd196c-47be-4b0e-ae35-42ec51f9085b",
   "metadata": {},
   "source": [
    "tweets_with_ratings"
   ]
  },
  {
   "cell_type": "code",
   "execution_count": null,
   "id": "2ec5d736-8f3d-4db6-a004-a45fec4893a5",
   "metadata": {},
   "outputs": [],
   "source": []
  }
 ],
 "metadata": {
  "kernelspec": {
   "display_name": "Python 3 (ipykernel)",
   "language": "python",
   "name": "python3"
  },
  "language_info": {
   "codemirror_mode": {
    "name": "ipython",
    "version": 3
   },
   "file_extension": ".py",
   "mimetype": "text/x-python",
   "name": "python",
   "nbconvert_exporter": "python",
   "pygments_lexer": "ipython3",
   "version": "3.9.6"
  }
 },
 "nbformat": 4,
 "nbformat_minor": 5
}
