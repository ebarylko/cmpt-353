{
 "cells": [
  {
   "cell_type": "code",
   "execution_count": 4,
   "id": "9a9a9bbf-deee-481b-970a-8c7500c7ba28",
   "metadata": {},
   "outputs": [],
   "source": [
    "import pandas as pd\n",
    "import numpy as np\n",
    "import re"
   ]
  },
  {
   "cell_type": "code",
   "execution_count": 3,
   "id": "051218b7-63ea-4d22-bdb7-03687fa5674e",
   "metadata": {},
   "outputs": [
    {
     "ename": "NameError",
     "evalue": "name 'pd' is not defined",
     "output_type": "error",
     "traceback": [
      "\u001b[0;31m---------------------------------------------------------------------------\u001b[0m",
      "\u001b[0;31mNameError\u001b[0m                                 Traceback (most recent call last)",
      "Cell \u001b[0;32mIn[3], line 1\u001b[0m\n\u001b[0;32m----> 1\u001b[0m dog_rates \u001b[38;5;241m=\u001b[39m \u001b[43mpd\u001b[49m\u001b[38;5;241m.\u001b[39mread_csv(\u001b[38;5;124m\"\u001b[39m\u001b[38;5;124mdog_rates_tweets.csv\u001b[39m\u001b[38;5;124m\"\u001b[39m)\n",
      "\u001b[0;31mNameError\u001b[0m: name 'pd' is not defined"
     ]
    }
   ],
   "source": [
    "dog_rates = pd.read_csv(\"dog_rates_tweets.csv\", parse_dates=[3])"
   ]
  },
  {
   "cell_type": "code",
   "execution_count": 8,
   "id": "eba854de-a36b-440b-b320-269c1200070b",
   "metadata": {},
   "outputs": [],
   "source": [
    "\n",
    "def extract_rating(tweet):\n",
    "    \"\"\"\n",
    "    Args:\n",
    "        tweet: a string that optionally contains a rating of the form x/10, where x is a positive integer\n",
    "\n",
    "    Returns: NAN if the tweet has no rating, otherwise returns the numerical value of the rating\n",
    "    \"\"\"\n",
    "    def process_rating(rating):\n",
    "        num, denom = map(float, rating.split('/'))\n",
    "        return num / denom\n",
    " \n",
    "    \n",
    "    match = re.search(r'(\\d+(\\.\\d+)?)/10', tweet)\n",
    "    return np.nan if not match else process_rating(match.group())\n"
   ]
  },
  {
   "cell_type": "code",
   "execution_count": 1,
   "id": "405dc2ab-a99a-4ef1-8142-dc943083d45c",
   "metadata": {},
   "outputs": [],
   "source": [
    "def dates_and_ratings_of_tweets(tweets):\n",
    "    \"\"\"\n",
    "    Args:\n",
    "        tweets: a DataFrame where each row contains the date a tweet was sent, the user who made\n",
    "        the tweet, and the content of the tweet\n",
    "\n",
    "    Returns: a DataFrame where each row has a date and rating of a tweet which\n",
    "    contains a rating of the form x/10, where x is in [0, 24]\n",
    "    \"\"\"\n",
    "    def validate_ratings(rating):\n",
    "        return np.nan if rating not in range(0, 25) else rating\n",
    "\n",
    "    def remove_invalid_ratings(tweet_coll):\n",
    "        tweets_cpy = tweet_coll.copy()\n",
    "        tweets_cpy['rating'] = tweets_cpy['rating'].map(validate_ratings)\n",
    "        return tweets_cpy.dropna()[['rating', 'created_at']].set_index('rating')\n",
    "\n",
    "    tweets_with_ratings = tweets.assign(rating=tweets['text'].apply(extract_rating))\n",
    "    return remove_invalid_ratings(tweets_with_ratings)\n"
   ]
  },
  {
   "cell_type": "code",
   "execution_count": 2,
   "id": "60ecae7d-8ada-401f-9589-81ae49321245",
   "metadata": {},
   "outputs": [
    {
     "ename": "NameError",
     "evalue": "name 'dog_rates' is not defined",
     "output_type": "error",
     "traceback": [
      "\u001b[0;31m---------------------------------------------------------------------------\u001b[0m",
      "\u001b[0;31mNameError\u001b[0m                                 Traceback (most recent call last)",
      "Cell \u001b[0;32mIn[2], line 1\u001b[0m\n\u001b[0;32m----> 1\u001b[0m dates_and_ratings_of_tweets(\u001b[43mdog_rates\u001b[49m)\n",
      "\u001b[0;31mNameError\u001b[0m: name 'dog_rates' is not defined"
     ]
    }
   ],
   "source": [
    "dates_and_ratings_of_tweets(dog_rates)"
   ]
  },
  {
   "cell_type": "raw",
   "id": "83dd196c-47be-4b0e-ae35-42ec51f9085b",
   "metadata": {},
   "source": []
  },
  {
   "cell_type": "code",
   "execution_count": null,
   "id": "2ec5d736-8f3d-4db6-a004-a45fec4893a5",
   "metadata": {},
   "outputs": [],
   "source": []
  }
 ],
 "metadata": {
  "kernelspec": {
   "display_name": "Python 3 (ipykernel)",
   "language": "python",
   "name": "python3"
  },
  "language_info": {
   "codemirror_mode": {
    "name": "ipython",
    "version": 3
   },
   "file_extension": ".py",
   "mimetype": "text/x-python",
   "name": "python",
   "nbconvert_exporter": "python",
   "pygments_lexer": "ipython3",
   "version": "3.11.9"
  }
 },
 "nbformat": 4,
 "nbformat_minor": 5
}
