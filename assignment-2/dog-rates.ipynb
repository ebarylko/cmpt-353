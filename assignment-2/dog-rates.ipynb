{
 "cells": [
  {
   "cell_type": "code",
   "execution_count": 8,
   "id": "9a9a9bbf-deee-481b-970a-8c7500c7ba28",
   "metadata": {},
   "outputs": [
    {
     "name": "stdout",
     "output_type": "stream",
     "text": [
      "Requirement already satisfied: matplotlib in /opt/homebrew/lib/python3.11/site-packages (3.9.0)\n",
      "Requirement already satisfied: contourpy>=1.0.1 in /opt/homebrew/lib/python3.11/site-packages (from matplotlib) (1.2.1)\n",
      "Requirement already satisfied: cycler>=0.10 in /opt/homebrew/lib/python3.11/site-packages (from matplotlib) (0.12.1)\n",
      "Requirement already satisfied: fonttools>=4.22.0 in /opt/homebrew/lib/python3.11/site-packages (from matplotlib) (4.51.0)\n",
      "Requirement already satisfied: kiwisolver>=1.3.1 in /opt/homebrew/lib/python3.11/site-packages (from matplotlib) (1.4.5)\n",
      "Requirement already satisfied: numpy>=1.23 in /opt/homebrew/lib/python3.11/site-packages (from matplotlib) (1.26.4)\n",
      "Requirement already satisfied: packaging>=20.0 in /opt/homebrew/lib/python3.11/site-packages (from matplotlib) (24.0)\n",
      "Requirement already satisfied: pillow>=8 in /opt/homebrew/lib/python3.11/site-packages (from matplotlib) (10.3.0)\n",
      "Requirement already satisfied: pyparsing>=2.3.1 in /opt/homebrew/lib/python3.11/site-packages (from matplotlib) (3.1.2)\n",
      "Requirement already satisfied: python-dateutil>=2.7 in /opt/homebrew/lib/python3.11/site-packages (from matplotlib) (2.9.0.post0)\n",
      "Requirement already satisfied: six>=1.5 in /opt/homebrew/lib/python3.11/site-packages (from python-dateutil>=2.7->matplotlib) (1.16.0)\n",
      "Note: you may need to restart the kernel to use updated packages.\n",
      "Requirement already satisfied: scipy in /opt/homebrew/lib/python3.11/site-packages (1.13.0)\n",
      "Requirement already satisfied: numpy<2.3,>=1.22.4 in /opt/homebrew/lib/python3.11/site-packages (from scipy) (1.26.4)\n",
      "Note: you may need to restart the kernel to use updated packages.\n"
     ]
    }
   ],
   "source": [
    "import pandas as pd\n",
    "import numpy as np\n",
    "import re\n",
    "%pip install matplotlib\n",
    "from matplotlib import pyplot as plt\n",
    "import datetime as dt\n",
    "from datetime import datetime\n",
    "%pip install scipy\n",
    "import scipy.stats as ss"
   ]
  },
  {
   "cell_type": "code",
   "execution_count": 42,
   "id": "051218b7-63ea-4d22-bdb7-03687fa5674e",
   "metadata": {},
   "outputs": [
    {
     "data": {
      "text/plain": [
       "0      2018-05-10 20:36:44\n",
       "1      2018-05-09 23:54:02\n",
       "2      2018-05-09 23:48:56\n",
       "3      2018-05-09 22:02:03\n",
       "4      2018-05-09 01:19:40\n",
       "               ...        \n",
       "8510   2018-08-10 18:12:18\n",
       "8511   2018-08-10 17:56:00\n",
       "8512   2018-08-10 17:30:12\n",
       "8513   2018-08-10 17:19:32\n",
       "8514   2018-08-10 17:01:01\n",
       "Name: created_at, Length: 8515, dtype: datetime64[ns]"
      ]
     },
     "execution_count": 42,
     "metadata": {},
     "output_type": "execute_result"
    }
   ],
   "source": [
    "def parse_date(date):\n",
    "    return pd.to_datetime(date)\n",
    "    # return datetime.strptime(date, '%Y-%m-%d %H:%M:%S')\n",
    "\n",
    "def parse_many_dates(dates):\n",
    "    return map(parse_date, dates)\n",
    "dog_rates = pd.read_csv(\"dog_rates_tweets.csv\", parse_dates=[1])\n",
    "# dog_rates['created_at'] = dog_rates['created_at'].apply(parse_date)\n",
    "dog_rates['created_at']"
   ]
  },
  {
   "cell_type": "code",
   "execution_count": 36,
   "id": "eba854de-a36b-440b-b320-269c1200070b",
   "metadata": {},
   "outputs": [],
   "source": [
    "\n",
    "def extract_rating(tweet):\n",
    "    \"\"\"\n",
    "    Args:\n",
    "        tweet: a string that optionally contains a rating of the form x/10, where x is a positive integer\n",
    "\n",
    "    Returns: NAN if the tweet has no rating, otherwise returns the numerical value of the rating\n",
    "    \"\"\"\n",
    "\n",
    "    def process_rating(rating):\n",
    "        num, _ = map(float, rating.split('/'))\n",
    "        return num\n",
    "\n",
    "    match = re.search(r'(\\d+(\\.\\d+)?)/10', tweet)\n",
    "    return np.nan if not match else process_rating(match.group())\n",
    "\n"
   ]
  },
  {
   "cell_type": "code",
   "execution_count": 37,
   "id": "405dc2ab-a99a-4ef1-8142-dc943083d45c",
   "metadata": {},
   "outputs": [],
   "source": [
    "def dates_and_ratings_of_tweets(tweets):\n",
    "    \"\"\"\n",
    "    Args:\n",
    "        tweets: a DataFrame where each row contains the date a tweet was sent, the user who made\n",
    "        the tweet, and the content of the tweet\n",
    "\n",
    "    Returns: a DataFrame where each row has a date and rating of a tweet which\n",
    "    contains a rating of the form x/10, where x is in [0, 24]\n",
    "    \"\"\"\n",
    "    def validate_ratings(rating):\n",
    "        return np.nan if rating not in range(0, 26) else rating\n",
    "\n",
    "    def remove_invalid_ratings(tweet_coll):\n",
    "        tweets_cpy = tweet_coll.copy()\n",
    "        tweets_cpy['rating'] = tweets_cpy['rating'].map(validate_ratings)\n",
    "        return tweets_cpy.dropna()[['rating', 'created_at']]\n",
    "\n",
    "    tweets_with_ratings = tweets.assign(rating=tweets['text'].apply(extract_rating))\n",
    "    return remove_invalid_ratings(tweets_with_ratings)\n"
   ]
  },
  {
   "cell_type": "code",
   "execution_count": 38,
   "id": "60ecae7d-8ada-401f-9589-81ae49321245",
   "metadata": {},
   "outputs": [],
   "source": [
    "tweets_with_valid_ratings = dates_and_ratings_of_tweets(dog_rates)"
   ]
  },
  {
   "cell_type": "code",
   "execution_count": 39,
   "id": "2ec5d736-8f3d-4db6-a004-a45fec4893a5",
   "metadata": {},
   "outputs": [
    {
     "data": {
      "text/plain": [
       "array(['2018-05-09T23:48:56.000000000', '2018-05-08T16:23:07.000000000',\n",
       "       '2018-05-07T23:11:58.000000000', ...,\n",
       "       '2018-08-21T00:16:09.000000000', '2018-08-15T16:30:55.000000000',\n",
       "       '2018-08-15T02:10:45.000000000'], dtype='datetime64[ns]')"
      ]
     },
     "execution_count": 39,
     "metadata": {},
     "output_type": "execute_result"
    }
   ],
   "source": [
    "ratings = tweets_with_valid_ratings['rating'].values\n",
    "dates = tweets_with_valid_ratings['created_at'].values\n",
    "dates"
   ]
  },
  {
   "cell_type": "code",
   "execution_count": 40,
   "id": "fe4846bd-8454-4d63-9354-8fdcd4312c73",
   "metadata": {},
   "outputs": [
    {
     "data": {
      "text/plain": [
       "[<matplotlib.lines.Line2D at 0x14aa268d0>]"
      ]
     },
     "execution_count": 40,
     "metadata": {},
     "output_type": "execute_result"
    },
    {
     "data": {
      "image/png": "[encoded data removed]",
      "text/plain": [
       "<Figure size 640x480 with 1 Axes>"
      ]
     },
     "metadata": {},
     "output_type": "display_data"
    }
   ],
   "source": [
    "plt.xticks(rotation=25)\n",
    "plt.plot(dates, ratings, 'o')"
   ]
  },
  {
   "cell_type": "code",
   "execution_count": 44,
   "id": "e687ca68-757f-4581-b0dd-c020b1822950",
   "metadata": {},
   "outputs": [
    {
     "ename": "AttributeError",
     "evalue": "'numpy.datetime64' object has no attribute 'date'",
     "output_type": "error",
     "traceback": [
      "\u001b[0;31m---------------------------------------------------------------------------\u001b[0m",
      "\u001b[0;31mAttributeError\u001b[0m                            Traceback (most recent call last)",
      "Cell \u001b[0;32mIn[44], line 2\u001b[0m\n\u001b[1;32m      1\u001b[0m time_after_epoch \u001b[38;5;241m=\u001b[39m \u001b[38;5;28;01mlambda\u001b[39;00m date: (date\u001b[38;5;241m.\u001b[39mdate() \u001b[38;5;241m-\u001b[39m datetime(\u001b[38;5;241m1970\u001b[39m, \u001b[38;5;241m1\u001b[39m, \u001b[38;5;241m1\u001b[39m))\u001b[38;5;241m.\u001b[39mdt\u001b[38;5;241m.\u001b[39mtotal_seconds()\n\u001b[0;32m----> 2\u001b[0m \u001b[38;5;28;43mlist\u001b[39;49m\u001b[43m(\u001b[49m\u001b[38;5;28;43mmap\u001b[39;49m\u001b[43m(\u001b[49m\u001b[43mtime_after_epoch\u001b[49m\u001b[43m,\u001b[49m\u001b[43m \u001b[49m\u001b[43mdates\u001b[49m\u001b[43m)\u001b[49m\u001b[43m)\u001b[49m\n\u001b[1;32m      3\u001b[0m \u001b[38;5;66;03m# linear_reg = ss.linregress(map(time_after_epoch, dates), ratings)\u001b[39;00m\n",
      "Cell \u001b[0;32mIn[44], line 1\u001b[0m, in \u001b[0;36m<lambda>\u001b[0;34m(date)\u001b[0m\n\u001b[0;32m----> 1\u001b[0m time_after_epoch \u001b[38;5;241m=\u001b[39m \u001b[38;5;28;01mlambda\u001b[39;00m date: (\u001b[43mdate\u001b[49m\u001b[38;5;241;43m.\u001b[39;49m\u001b[43mdate\u001b[49m() \u001b[38;5;241m-\u001b[39m datetime(\u001b[38;5;241m1970\u001b[39m, \u001b[38;5;241m1\u001b[39m, \u001b[38;5;241m1\u001b[39m))\u001b[38;5;241m.\u001b[39mdt\u001b[38;5;241m.\u001b[39mtotal_seconds()\n\u001b[1;32m      2\u001b[0m \u001b[38;5;28mlist\u001b[39m(\u001b[38;5;28mmap\u001b[39m(time_after_epoch, dates))\n\u001b[1;32m      3\u001b[0m \u001b[38;5;66;03m# linear_reg = ss.linregress(map(time_after_epoch, dates), ratings)\u001b[39;00m\n",
      "\u001b[0;31mAttributeError\u001b[0m: 'numpy.datetime64' object has no attribute 'date'"
     ]
    }
   ],
   "source": [
    "time_after_epoch = lambda date: (date.date() - datetime(1970, 1, 1)).dt.total_seconds()\n",
    "list(map(time_after_epoch, dates))\n",
    "# linear_reg = ss.linregress(map(time_after_epoch, dates), ratings)"
   ]
  },
  {
   "cell_type": "code",
   "execution_count": null,
   "id": "69744a83-b1c8-4276-95f2-6b675104cc4b",
   "metadata": {},
   "outputs": [],
   "source": []
  }
 ],
 "metadata": {
  "kernelspec": {
   "display_name": "Python 3 (ipykernel)",
   "language": "python",
   "name": "python3"
  },
  "language_info": {
   "codemirror_mode": {
    "name": "ipython",
    "version": 3
   },
   "file_extension": ".py",
   "mimetype": "text/x-python",
   "name": "python",
   "nbconvert_exporter": "python",
   "pygments_lexer": "ipython3",
   "version": "3.11.9"
  }
 },
 "nbformat": 4,
 "nbformat_minor": 5
}
