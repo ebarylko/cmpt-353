{
 "cells": [
  {
   "cell_type": "code",
   "execution_count": 56,
   "id": "a16d78e2-77bf-49f4-8abb-fe07aad671a7",
   "metadata": {},
   "outputs": [],
   "source": [
    "import pandas as pd\n",
    "from scipy import stats\n",
    "from matplotlib import pyplot as plt"
   ]
  },
  {
   "cell_type": "code",
   "execution_count": 19,
   "id": "3068cf99-6e5b-4e65-a95a-f853f84f713c",
   "metadata": {},
   "outputs": [],
   "source": [
    "def get_mean_std_and_range(df: pd.DataFrame):\n",
    "    \"\"\"\n",
    "    @param df: a DataFrame containing information about the mean, standard deviation, minimum, and maximum value \n",
    "    of a dataset\n",
    "    @return: returns the mean, standard deviation, and range of the dataset\n",
    "    \"\"\"\n",
    "    return df['mean'], df['std'], df['max'] - df['min']"
   ]
  },
  {
   "cell_type": "code",
   "execution_count": 24,
   "id": "2e92a49c-6a93-4719-8fbe-e6e5ab87d3e1",
   "metadata": {},
   "outputs": [],
   "source": [
    "def calc_summary_statistics(df: pd.DataFrame):\n",
    "    \"\"\"\n",
    "    @param df: a DataFrame containing two columns, one containing x values and the other containing y values\n",
    "    @return: the mean, standard deviation, and range for the x and y values, and the correlation coefficient for the x \n",
    "    and y values\n",
    "    \"\"\"\n",
    "    data_info = df.describe()\n",
    "    x_mean, x_std, x_val_range = get_mean_std_and_range(data_info['x'])\n",
    "    y_mean, y_std, y_val_range = get_mean_std_and_range(data_info['y'])\n",
    "    corr_coefficient = stats.linregress(df['x'], df['y']).rvalue\n",
    "    return {\"x_mean\": x_mean,\n",
    "            \"x_std\": x_std,\n",
    "            \"x_range\": x_val_range,\n",
    "            \"y_mean\": y_mean,\n",
    "            \"y_std\": y_std,\n",
    "            \"y_range\": y_val_range,\n",
    "            \"correlation coefficient\": corr_coefficient}\n",
    "    "
   ]
  },
  {
   "cell_type": "code",
   "execution_count": 27,
   "id": "ae51a5cd-e9e9-4964-99eb-0bfeaf67a67e",
   "metadata": {},
   "outputs": [],
   "source": [
    "def read_csv_and_calc_statistics(file_name):\n",
    "    \"\"\"\n",
    "    @param file_name: name of the file which contains x and y values\n",
    "    @param: returns the mean, standard deviation, and range for the x and y values, and the correlation coefficient for the x \n",
    "    and y values\n",
    "    \"\"\"\n",
    "    data = pd.read_csv(file_name)\n",
    "    return calc_summary_statistics(data)"
   ]
  },
  {
   "cell_type": "code",
   "execution_count": 48,
   "id": "0d21fccf-f528-43f9-8692-72d40a1bb0ee",
   "metadata": {},
   "outputs": [],
   "source": [
    "all_names = map(lambda val: \"data-{}.csv\".format(val), range(1, 7))"
   ]
  },
  {
   "cell_type": "code",
   "execution_count": 49,
   "id": "ed329d0d-e6a0-490a-8024-b6ca2d37e80c",
   "metadata": {},
   "outputs": [
    {
     "data": {
      "text/plain": [
       "[{'x_mean': 8.71769618641382,\n",
       "  'x_std': 12.15551723122202,\n",
       "  'x_range': 57.87293327786024,\n",
       "  'y_mean': 12.522874034702584,\n",
       "  'y_std': 6.63996400756785,\n",
       "  'y_range': 29.94924044421798,\n",
       "  'correlation coefficient': 0.9503256954375483},\n",
       " {'x_mean': -0.7107871267159573,\n",
       "  'x_std': 11.481583587790734,\n",
       "  'x_range': 60.9181134493271,\n",
       "  'y_mean': -0.7489869764497991,\n",
       "  'y_std': 6.257917998755848,\n",
       "  'y_range': 32.769118752736546,\n",
       "  'correlation coefficient': 0.9551531665750373},\n",
       " {'x_mean': 0.9689074904200939,\n",
       "  'x_std': 2.235557861057969,\n",
       "  'x_range': 6.967949247227911,\n",
       "  'y_mean': 8.508535236641327,\n",
       "  'y_std': 1.1493008110024525,\n",
       "  'y_range': 3.9101365324125537,\n",
       "  'correlation coefficient': 0.9819372646760659},\n",
       " {'x_mean': 49.90508614830509,\n",
       "  'x_std': 28.50861051988193,\n",
       "  'x_range': 87.3767,\n",
       "  'y_mean': 18.553836525423726,\n",
       "  'y_std': 16.545896442941682,\n",
       "  'y_range': 44.56504,\n",
       "  'correlation coefficient': -0.08119306735490815},\n",
       " {'x_mean': 49.90999357843095,\n",
       "  'x_std': 28.500000943801354,\n",
       "  'x_range': 86.71497088602307,\n",
       "  'y_mean': 18.555524937729086,\n",
       "  'y_std': 16.540796301840782,\n",
       "  'y_range': 49.87869952875196,\n",
       "  'correlation coefficient': -0.0882359898305888},\n",
       " {'x_mean': 7.21615517960992,\n",
       "  'x_std': 11.921599067458311,\n",
       "  'x_range': 59.735959663269966,\n",
       "  'y_mean': 7.602215028237295,\n",
       "  'y_std': 11.764382455006647,\n",
       "  'y_range': 59.03623102785603,\n",
       "  'correlation coefficient': 0.9350685662094905}]"
      ]
     },
     "execution_count": 49,
     "metadata": {},
     "output_type": "execute_result"
    }
   ],
   "source": [
    "list(map(read_csv_and_calc_statistics, all_names))"
   ]
  }
 ],
 "metadata": {
  "kernelspec": {
   "display_name": "Python 3 (ipykernel)",
   "language": "python",
   "name": "python3"
  },
  "language_info": {
   "codemirror_mode": {
    "name": "ipython",
    "version": 3
   },
   "file_extension": ".py",
   "mimetype": "text/x-python",
   "name": "python",
   "nbconvert_exporter": "python",
   "pygments_lexer": "ipython3",
   "version": "3.12.3"
  }
 },
 "nbformat": 4,
 "nbformat_minor": 5
}
