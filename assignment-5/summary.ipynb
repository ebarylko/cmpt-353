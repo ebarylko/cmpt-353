{
 "cells": [
  {
   "cell_type": "code",
   "execution_count": 1,
   "id": "a16d78e2-77bf-49f4-8abb-fe07aad671a7",
   "metadata": {},
   "outputs": [],
   "source": [
    "import pandas as pd\n",
    "from scipy import stats"
   ]
  },
  {
   "cell_type": "code",
   "execution_count": 19,
   "id": "3068cf99-6e5b-4e65-a95a-f853f84f713c",
   "metadata": {},
   "outputs": [],
   "source": [
    "def get_mean_std_and_range(df: pd.DataFrame):\n",
    "    \"\"\"\n",
    "    @param df: a DataFrame containing a collection of values\n",
    "    @return: returns the mean, standard deviation, and range of the values in the DataFrame\n",
    "    \"\"\"\n",
    "    return df['mean'], df['std'], df['max'] - df['min']"
   ]
  },
  {
   "cell_type": "code",
   "execution_count": 22,
   "id": "2e92a49c-6a93-4719-8fbe-e6e5ab87d3e1",
   "metadata": {},
   "outputs": [],
   "source": [
    "def calc_summary_statistics(df: pd.DataFrame):\n",
    "    \"\"\"\n",
    "    @param df: a DataFrame containing two columns, one containing x values and the other containing y values\n",
    "    @return: the mean, standard deviation, and range for the x and y values, and the correlation coefficient for the x \n",
    "    and y values\n",
    "    \"\"\"\n",
    "    data_info = df.describe()\n",
    "    x_mean, x_std, x_val_range = get_mean_std_and_range(data_info['x'])\n",
    "    y_mean, y_std, y_val_range = get_mean_std_and_range(data_info['y'])\n",
    "    corr_coefficient = stats.linregress(df['x'], df['y']).rvalue\n",
    "    return x_mean, x_std, x_val_range,  y_mean, y_std, y_val_range, corr_coefficient\n",
    "    "
   ]
  },
  {
   "cell_type": "code",
   "execution_count": 14,
   "id": "ae51a5cd-e9e9-4964-99eb-0bfeaf67a67e",
   "metadata": {},
   "outputs": [
    {
     "data": {
      "text/plain": [
       "0     29.168628\n",
       "1     12.801887\n",
       "2     19.744856\n",
       "3     34.890718\n",
       "4     30.410696\n",
       "        ...    \n",
       "95    16.478878\n",
       "96     8.126000\n",
       "97    29.430446\n",
       "98     9.522945\n",
       "99    12.823872\n",
       "Name: x, Length: 100, dtype: float64"
      ]
     },
     "execution_count": 14,
     "metadata": {},
     "output_type": "execute_result"
    }
   ],
   "source": []
  },
  {
   "cell_type": "code",
   "execution_count": 6,
   "id": "70a9c24e-c43a-457c-980f-a0ff5c4711ab",
   "metadata": {},
   "outputs": [],
   "source": [
    "data_1 = pd.read_csv(\"data-1.csv\")"
   ]
  },
  {
   "cell_type": "code",
   "execution_count": 23,
   "id": "77d20fb8-28c9-4b46-b95d-6f324410070b",
   "metadata": {},
   "outputs": [
    {
     "data": {
      "text/plain": [
       "(8.71769618641382,\n",
       " 12.15551723122202,\n",
       " 57.87293327786024,\n",
       " 12.522874034702584,\n",
       " 6.63996400756785,\n",
       " 29.94924044421798,\n",
       " 0.9503256954375483)"
      ]
     },
     "execution_count": 23,
     "metadata": {},
     "output_type": "execute_result"
    }
   ],
   "source": [
    "calc_summary_statistics(data_1)"
   ]
  },
  {
   "cell_type": "code",
   "execution_count": null,
   "id": "88340ddd-c801-4ca8-a202-648620f23b80",
   "metadata": {},
   "outputs": [],
   "source": []
  }
 ],
 "metadata": {
  "kernelspec": {
   "display_name": "Python 3 (ipykernel)",
   "language": "python",
   "name": "python3"
  },
  "language_info": {
   "codemirror_mode": {
    "name": "ipython",
    "version": 3
   },
   "file_extension": ".py",
   "mimetype": "text/x-python",
   "name": "python",
   "nbconvert_exporter": "python",
   "pygments_lexer": "ipython3",
   "version": "3.12.3"
  }
 },
 "nbformat": 4,
 "nbformat_minor": 5
}
