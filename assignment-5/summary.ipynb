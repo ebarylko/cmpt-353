{
 "cells": [
  {
   "cell_type": "code",
   "execution_count": 1,
   "id": "a16d78e2-77bf-49f4-8abb-fe07aad671a7",
   "metadata": {
    "ExecuteTime": {
     "end_time": "2024-06-14T22:05:36.567166Z",
     "start_time": "2024-06-14T22:05:35.308043Z"
    }
   },
   "outputs": [],
   "source": [
    "import pandas as pd\n",
    "from scipy import stats\n",
    "from matplotlib import pyplot as plt"
   ]
  },
  {
   "cell_type": "code",
   "execution_count": 2,
   "id": "3068cf99-6e5b-4e65-a95a-f853f84f713c",
   "metadata": {
    "ExecuteTime": {
     "end_time": "2024-06-14T22:05:38.634958Z",
     "start_time": "2024-06-14T22:05:38.622605Z"
    }
   },
   "outputs": [],
   "source": [
    "def get_mean_std_and_range(df: pd.DataFrame):\n",
    "    \"\"\"\n",
    "    @param df: a DataFrame containing information about the mean, standard deviation, minimum, and maximum value \n",
    "    of a dataset\n",
    "    @return: returns the mean, standard deviation, maximum, and minimum of the dataset\n",
    "    \"\"\"\n",
    "    return df['mean'], df['std'], df['max'], df['min']"
   ]
  },
  {
   "cell_type": "code",
   "execution_count": 6,
   "outputs": [],
   "source": [
    "def calc_summary_statistics(df: pd.DataFrame):\n",
    "    \"\"\"\n",
    "    @param df: a DataFrame containing two columns, one containing x values and the other containing y values\n",
    "    @return: the mean, standard deviation, and range for the x and y values, and the correlation coefficient for the x \n",
    "    and y values\n",
    "    \"\"\"\n",
    "    data_info = df.describe()\n",
    "    x_mean, x_std, x_max, x_min = get_mean_std_and_range(data_info['x'])\n",
    "    y_mean, y_std, y_max, y_min  = get_mean_std_and_range(data_info['y'])\n",
    "    corr_coefficient = stats.linregress(df['x'], df['y']).rvalue\n",
    "    return {\"x_mean\": x_mean,\n",
    "            \"x_std\": x_std,\n",
    "            \"x_max\": x_max,\n",
    "            \"x_min\": x_min,\n",
    "            \"y_mean\": y_mean,\n",
    "            \"y_std\": y_std,\n",
    "            \"y_max\": y_max,\n",
    "            \"y_min\": y_min,\n",
    "            \"correlation coefficient\": corr_coefficient}\n",
    "    "
   ],
   "metadata": {
    "collapsed": false,
    "ExecuteTime": {
     "end_time": "2024-06-14T22:06:11.579068Z",
     "start_time": "2024-06-14T22:06:11.570644Z"
    }
   },
   "id": "5003ef81f23f373f"
  },
  {
   "cell_type": "code",
   "execution_count": 7,
   "id": "ae51a5cd-e9e9-4964-99eb-0bfeaf67a67e",
   "metadata": {
    "ExecuteTime": {
     "end_time": "2024-06-14T22:06:12.669079Z",
     "start_time": "2024-06-14T22:06:12.664938Z"
    }
   },
   "outputs": [],
   "source": [
    "def read_csv_and_calc_statistics(file_name):\n",
    "    \"\"\"\n",
    "    @param file_name: name of the file which contains x and y values\n",
    "    @param: returns the mean, standard deviation, and range for the x and y values, and the correlation coefficient for the x \n",
    "    and y values\n",
    "    \"\"\"\n",
    "    data = pd.read_csv(file_name)\n",
    "    return calc_summary_statistics(data)"
   ]
  },
  {
   "cell_type": "code",
   "execution_count": 8,
   "id": "0d21fccf-f528-43f9-8692-72d40a1bb0ee",
   "metadata": {
    "ExecuteTime": {
     "end_time": "2024-06-14T22:06:13.095225Z",
     "start_time": "2024-06-14T22:06:13.093020Z"
    }
   },
   "outputs": [],
   "source": [
    "all_names = map(lambda val: \"data-{}.csv\".format(val), range(1, 7))"
   ]
  },
  {
   "cell_type": "code",
   "execution_count": 9,
   "id": "ed329d0d-e6a0-490a-8024-b6ca2d37e80c",
   "metadata": {
    "ExecuteTime": {
     "end_time": "2024-06-14T22:06:13.575732Z",
     "start_time": "2024-06-14T22:06:13.548209Z"
    }
   },
   "outputs": [
    {
     "data": {
      "text/plain": "[{'x_mean': 8.71769618641382,\n  'x_std': 12.15551723122202,\n  'x_max': 35.23705548785129,\n  'x_min': -22.635877790008944,\n  'y_mean': 12.522874034702584,\n  'y_std': 6.63996400756785,\n  'y_max': 27.38415261152477,\n  'y_min': -2.565087832693213,\n  'correlation coefficient': 0.9503256954375483},\n {'x_mean': -0.7107871267159573,\n  'x_std': 11.481583587790734,\n  'x_max': 27.6470003722073,\n  'x_min': -33.2711130771198,\n  'y_mean': -0.7489869764497991,\n  'y_std': 6.257917998755848,\n  'y_max': 14.14731499231748,\n  'y_min': -18.621803760419063,\n  'correlation coefficient': 0.9551531665750373},\n {'x_mean': 0.9689074904200939,\n  'x_std': 2.235557861057969,\n  'x_max': 4.51888491755363,\n  'x_min': -2.4490643296742807,\n  'y_mean': 8.508535236641327,\n  'y_std': 1.1493008110024525,\n  'y_max': 10.551871022804317,\n  'y_min': 6.641734490391763,\n  'correlation coefficient': 0.9819372646760659},\n {'x_mean': 49.90508614830509,\n  'x_std': 28.50861051988193,\n  'x_max': 87.3767,\n  'x_min': 0.0,\n  'y_mean': 18.553836525423726,\n  'y_std': 16.545896442941682,\n  'y_max': 44.56504,\n  'y_min': 0.0,\n  'correlation coefficient': -0.08119306735490815},\n {'x_mean': 49.90999357843095,\n  'x_std': 28.500000943801354,\n  'x_max': 91.0528633396976,\n  'x_min': 4.337892453674525,\n  'y_mean': 18.555524937729086,\n  'y_std': 16.540796301840782,\n  'y_max': 49.93419703633311,\n  'y_min': 0.0554975075811517,\n  'correlation coefficient': -0.0882359898305888},\n {'x_mean': 7.21615517960992,\n  'x_std': 11.921599067458311,\n  'x_max': 35.402138910929,\n  'x_min': -24.33382075234097,\n  'y_mean': 7.602215028237295,\n  'y_std': 11.764382455006647,\n  'y_max': 36.07987403078143,\n  'y_min': -22.9563569970746,\n  'correlation coefficient': 0.9350685662094905}]"
     },
     "execution_count": 9,
     "metadata": {},
     "output_type": "execute_result"
    }
   ],
   "source": [
    "list(map(read_csv_and_calc_statistics, all_names))"
   ]
  },
  {
   "cell_type": "code",
   "execution_count": null,
   "outputs": [],
   "source": [],
   "metadata": {
    "collapsed": false
   },
   "id": "76886b2181e1623"
  }
 ],
 "metadata": {
  "kernelspec": {
   "display_name": "Python 3 (ipykernel)",
   "language": "python",
   "name": "python3"
  },
  "language_info": {
   "codemirror_mode": {
    "name": "ipython",
    "version": 3
   },
   "file_extension": ".py",
   "mimetype": "text/x-python",
   "name": "python",
   "nbconvert_exporter": "python",
   "pygments_lexer": "ipython3",
   "version": "3.12.3"
  }
 },
 "nbformat": 4,
 "nbformat_minor": 5
}
